{
 "cells": [
  {
   "cell_type": "markdown",
   "metadata": {},
   "source": [
    "tp06\n",
    "Rappel: pour simuler une variable aléatoire suivant une  loi de Bernoulli B(p): "
   ]
  },
  {
   "cell_type": "code",
   "execution_count": 16,
   "metadata": {
    "collapsed": false
   },
   "outputs": [
    {
     "name": "stdout",
     "output_type": "stream",
     "text": [
      "1\n",
      "0\n",
      "0\n",
      "0\n",
      "0\n",
      "0\n",
      "0\n",
      "0\n",
      "0\n",
      "0\n",
      "0\n",
      "0\n",
      "0\n",
      "0\n",
      "0\n",
      "0\n",
      "1\n",
      "0\n",
      "0\n",
      "0\n"
     ]
    }
   ],
   "source": [
    "import random as rnd\n",
    "def Ber(p): # retourne une valeur aléatoire suivant une loi B(P)\n",
    "    x=0\n",
    "    tirage=rnd.random()\n",
    "    if tirage < p:\n",
    "        x=1\n",
    "    return x    \n",
    "\n",
    "for k in range(20):\n",
    "    print(Ber(0.1))"
   ]
  },
  {
   "cell_type": "code",
   "execution_count": 18,
   "metadata": {
    "collapsed": false
   },
   "outputs": [
    {
     "name": "stdout",
     "output_type": "stream",
     "text": [
      "1\n",
      "1\n",
      "1\n",
      "1\n",
      "1\n",
      "1\n",
      "1\n",
      "1\n",
      "0\n",
      "1\n",
      "0\n",
      "1\n",
      "1\n",
      "0\n",
      "0\n",
      "1\n",
      "1\n",
      "1\n",
      "1\n",
      "0\n"
     ]
    }
   ],
   "source": [
    "for k in range(20):\n",
    "    print(Ber(0.7))"
   ]
  },
  {
   "cell_type": "markdown",
   "metadata": {},
   "source": [
    "Pour une loi binômiale B(n,p):"
   ]
  },
  {
   "cell_type": "code",
   "execution_count": 6,
   "metadata": {
    "collapsed": true
   },
   "outputs": [],
   "source": [
    "import random as rnd\n",
    "def X(n,p):  # retourne une valeur aléatoire suivant une loi B(n,p)\n",
    "    s=0()\n",
    "    for k in range(n):\n",
    "        s += Ber(p)\n",
    "    return s    "
   ]
  },
  {
   "cell_type": "markdown",
   "metadata": {},
   "source": [
    "Pour une loi hypergéométrique H(N,n,p), on peut simuler des tirages successsifs sans remise:"
   ]
  },
  {
   "cell_type": "code",
   "execution_count": 7,
   "metadata": {
    "collapsed": true
   },
   "outputs": [],
   "source": [
    "import random as rnd\n",
    "def HyperG(N,n,p):#retourne une valeur aléatoire suivant une loi H(N,n,p)\n",
    "    Pop_Totale=N\n",
    "    Pop1=N*p\n",
    "    Pop2=N-Pop1\n",
    "    proportion=p\n",
    "    nbr_succes=0 \n",
    "    for k in range(n):\n",
    "        tirage=Ber(proportion)# voir la fonction Ber ci-dessus\n",
    "        Pop_Totale-=1\n",
    "        if tirage ==1:\n",
    "            Pop1 -=1\n",
    "            proportion =Pop1/Pop_Totale\n",
    "            nbr_succes+=1\n",
    "    return nbr_succes        \n",
    "            \n",
    "            \n",
    "            \n"
   ]
  },
  {
   "cell_type": "markdown",
   "metadata": {},
   "source": [
    "Variante:on peut aussi simuler un  tirage exhaustif de n boules. Compléter:"
   ]
  },
  {
   "cell_type": "code",
   "execution_count": 8,
   "metadata": {
    "collapsed": false
   },
   "outputs": [
    {
     "ename": "SyntaxError",
     "evalue": "invalid syntax (<ipython-input-8-bcb6b4ad83cc>, line 8)",
     "output_type": "error",
     "traceback": [
      "\u001b[1;36m  File \u001b[1;32m\"<ipython-input-8-bcb6b4ad83cc>\"\u001b[1;36m, line \u001b[1;32m8\u001b[0m\n\u001b[1;33m    x=rnd.randint???\u001b[0m\n\u001b[1;37m                 ^\u001b[0m\n\u001b[1;31mSyntaxError\u001b[0m\u001b[1;31m:\u001b[0m invalid syntax\n"
     ]
    }
   ],
   "source": [
    "import random as rnd\n",
    "def HyperG_v2(N,n,p):\n",
    "    N1=N*p\n",
    "    N2=N-N*p\n",
    "    Urne= N1*[1]+N2*[0]#revoir n*L si n entier et L une liste?\n",
    "    S=0 # S va contenir le nombre de boules-succes (en proportion p)\n",
    "    for k in range(n):\n",
    "        x=rnd.randint???\n",
    "        S=???\n",
    "    return S    "
   ]
  },
  {
   "cell_type": "markdown",
   "metadata": {},
   "source": [
    "Simuler une variable aléatoire suivant une loi géométrique G(p).\n",
    "Faire en sorte que l'affichage permette de controler les résultats obtenus."
   ]
  },
  {
   "cell_type": "code",
   "execution_count": null,
   "metadata": {
    "collapsed": true
   },
   "outputs": [],
   "source": [
    "import random as rnd\n",
    "def Geom(p): # va renvoyer une valeur suivant une loi G(p)\n",
    "    rang=0\n",
    "    tirage=0\n",
    "    ...\n",
    "    ...\n",
    "    ...\n",
    "return rang"
   ]
  },
  {
   "cell_type": "markdown",
   "metadata": {},
   "source": [
    "Confronter à l'aide de cette fonction, moyenne empirique calculée à l'aide d'un grand échantillon\n",
    "et la valeur moyenne théorique d'une loi géométrique."
   ]
  },
  {
   "cell_type": "code",
   "execution_count": null,
   "metadata": {
    "collapsed": true
   },
   "outputs": [],
   "source": [
    "def Moyenne_Empirique(N)# N taille de l'échantillon\n",
    "    s=0\n",
    "    ...\n",
    "    ...\n",
    "    return s/N"
   ]
  },
  {
   "cell_type": "code",
   "execution_count": null,
   "metadata": {
    "collapsed": true
   },
   "outputs": [],
   "source": []
  },
  {
   "cell_type": "markdown",
   "metadata": {},
   "source": [
    "Ex. 14 Td Proba 3\n",
    "-----------------\n",
    "Proposer une simulation de la variable aléatoire X.\n",
    "\n"
   ]
  },
  {
   "cell_type": "markdown",
   "metadata": {},
   "source": [
    "Toutes ces lois peuvent être simulées directement en utilisant le sous-module stats de scipy.\n",
    "Allez voir ici http://docs.scipy.org/doc/scipy/reference/stats.html (discret distributions pour le moment).\n",
    "Un exemple spécial Véto:\n",
    "\"Suppose we have a collection of 20 animals, of which 7 are dogs. Then if we want to know the probability of finding a given number of dogs if we choose at random 12 of the 20 animals, we can initialize a frozen distribution and plot the probability mass function\"\n"
   ]
  },
  {
   "cell_type": "code",
   "execution_count": 11,
   "metadata": {
    "collapsed": false
   },
   "outputs": [],
   "source": [
    "from scipy.stats import hypergeom\n",
    "import matplotlib.pyplot as plt\n",
    "import numpy as np\n",
    "\n",
    "[M, n, N] = [20, 7, 12]\n",
    "rv = hypergeom(M, n, N)\n",
    "x = np.arange(0, n+1)\n",
    "pmf_dogs = rv.pmf(x)\n",
    "fig = plt.figure()\n",
    "ax = fig.add_subplot(111)\n",
    "ax.plot(x, pmf_dogs, 'bo')\n",
    "ax.vlines(x, 0, pmf_dogs, lw=2)\n",
    "ax.set_xlabel('# chiens dans le groupe')\n",
    "ax.set_ylabel('hypergeom PMF')\n",
    "plt.show()"
   ]
  },
  {
   "cell_type": "markdown",
   "metadata": {},
   "source": [
    "Comme vu en classe, si n est \"grand\" et p \"petit\" la loi d'une variable aléatoire suivant une loi binômiale \n",
    "B(n,p) est proche d'une loi de Poisson  de paramètre lambda si lambda=n*p. Remarque: voir rapport Oral maths 2016.\n"
   ]
  },
  {
   "cell_type": "markdown",
   "metadata": {},
   "source": [
    "Proposer une représentation graphique permettant de confirmer -- ou d'infirmer? -- qu'une loi de Poisson de paramètre 1 par exemple peut être simulée avec une variable aléatoire B(...,...).On pourra compléter ce qui suit après avoir cherché la syntaxe de la fonction plt.bar permettant de tracer des diagrammes en bâtons."
   ]
  },
  {
   "cell_type": "code",
   "execution_count": null,
   "metadata": {
    "collapsed": true
   },
   "outputs": [],
   "source": [
    "N=15\n",
    "#Distribution exacte\n",
    "P=[.... for k in range(N+1)]\n",
    "#Distribution approchée avec n=50\n",
    "n=50\n",
    "B1=[... for k in range(N+1)]\n",
    "#Avec cette fois n=200\n",
    "B2=[...]\n",
    "#Diagrammes en bâtons\n",
    "absc=np.linspace(0,N,N+1)\n",
    "plt.bar(absc,P,color='r',width=0.2)\n",
    "plt.bar(absc+0.2,B1,color='b',width=0.2)\n",
    "plt.bar(absc+0.4,B2,color='y',width=0.2)\n",
    "\n",
    "\n",
    "\n",
    "\n"
   ]
  }
 ],
 "metadata": {
  "kernelspec": {
   "display_name": "Python 3",
   "language": "python",
   "name": "python3"
  },
  "language_info": {
   "codemirror_mode": {
    "name": "ipython",
    "version": 3
   },
   "file_extension": ".py",
   "mimetype": "text/x-python",
   "name": "python",
   "nbconvert_exporter": "python",
   "pygments_lexer": "ipython3",
   "version": "3.5.1"
  }
 },
 "nbformat": 4,
 "nbformat_minor": 0
}
